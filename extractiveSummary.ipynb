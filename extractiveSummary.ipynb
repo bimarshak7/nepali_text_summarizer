{
  "nbformat": 4,
  "nbformat_minor": 0,
  "metadata": {
    "colab": {
      "provenance": [],
      "mount_file_id": "1ALRMhi1hIjYQcjoZSHMRL_HoDgnm5d-J",
      "authorship_tag": "ABX9TyNu1uJ04cSpcKJ70yIaRCFT",
      "include_colab_link": true
    },
    "kernelspec": {
      "name": "python3",
      "display_name": "Python 3"
    },
    "language_info": {
      "name": "python"
    }
  },
  "cells": [
    {
      "cell_type": "markdown",
      "metadata": {
        "id": "view-in-github",
        "colab_type": "text"
      },
      "source": [
        "<a href=\"https://colab.research.google.com/github/bimarshak7/nepali_text_summarizer/blob/main/extractiveSummary.ipynb\" target=\"_parent\"><img src=\"https://colab.research.google.com/assets/colab-badge.svg\" alt=\"Open In Colab\"/></a>"
      ]
    },
    {
      "cell_type": "code",
      "source": [
        "#import necessary libraries\n",
        "import numpy as np\n",
        "from gensim.models import KeyedVectors\n",
        "import string\n",
        "\n",
        "from sklearn.cluster import KMeans\n",
        "from sklearn.metrics import pairwise_distances_argmin_min"
      ],
      "metadata": {
        "id": "rrhcyUWlKVUm"
      },
      "execution_count": 18,
      "outputs": []
    },
    {
      "cell_type": "code",
      "execution_count": 7,
      "metadata": {
        "id": "83YKkWH6J573"
      },
      "outputs": [],
      "source": [
        "def load_vector():\n",
        "  '''Load pretrained word embedding'''\n",
        "  base_folder = \"/content/drive/MyDrive/NLP/\" \n",
        "  model = KeyedVectors.load(base_folder+\"nepali_word_embeddings\")\n",
        "  return model"
      ]
    },
    {
      "cell_type": "code",
      "source": [
        "#text to summarize\n",
        "text2 = '''\n",
        "७ फागुन, काठमाडौं । जिरीमा मानव निर्मित तालदेखि रसुवाको गोसाइँकुण्डमा केबलकार निर्माणसम्मका योजना समेटेर बागमती प्रदेश सरकारले नयाँ पर्यटन नीतिको खाका बनाएको छ । बागमती प्रदेश संस्कृति तथा पर्यटन मन्त्रालयले रायका लागि सार्वजनिक गरेको प्रदेश पर्यटन नीति २०७९ को मस्यौदा अनुसार पर्यटन पूर्वाधारको विकास र विस्तारको योजनामा यस्ता आयोजना समेटिएका छन् ।\n",
        "पर्यटन नीतिको मस्यौदामा भनिएको छ, ‘दोलखाको जिरीमा मानव निर्मित पर्यटकीय ताल निर्माण गरिनेछ, गोसाइँकुण्ड लगायतका स्थानमा केबलकार स्थापना गर्न प्रोत्साहन गरिने छ ।’ पर्यटन नीतिमा गोसाइँकुण्ड एकीकृत विकास परियोजना मार्फत रसुवाको प्रमुख तीर्थस्थल गोसाइँकुण्डको समग्र विकास गरिने समेत उल्लेख गरिएको छ ।\n",
        "पर्यटनको सम्भाव्यता भएका जिरी, शैलुङ, कालिञ्चोक र महाभारत क्षेत्रका हिल स्टेशनको एकीकृत विकासका लागि सडकलगायतका पूर्वाधार र स्तरोन्नतीमा ध्यान दिने समेत पर्यटन नीतिमा उल्लेख छ ।\n",
        "त्रिभुवन राजपथलाई पर्यटन मार्ग घोषणा गर्ने\n",
        "काठमाडौं–हेटौडा जोड्ने त्रिभुवन राजपथलाई प्रदेश सरकारले पर्यटन मार्ग घोषणा गर्ने भएको छ । त्यसका लागि सडकको मर्मत सुधार सरकारले गर्ने र होटल लगायत सुविधाको विकास र विस्तारमा निजी क्षेत्रलाई प्रोत्साहन गर्ने नीति प्रदेश सरकारले लिने भएको छ । समग्र पर्यटन पूर्वाधारको निर्माणमा निजी क्षेत्रसँग सहकार्य गरी निजी क्षेत्रको लगानी बढाउने नीति समेत प्रदेश सरकारले लिने भएको छ ।\n",
        "प्रमुख पर्यटकीय क्षेत्रमा स्तरीय होटलको विकास गर्न समेत निजी क्षेत्रलाई प्रोत्साहन गरिने भएको छ । प्रदेश अन्तर्गत पर्ने राष्ट्रिय लोकमार्ग र प्रादेशिक तथा स्थानीय प्रमुख लोकमार्गलाई सम्भाव्यताका आधारमा पर्यटन कोरिडरका रुपमा विकास गर्ने समेत मस्यौदामा उल्लेख गरिएको छ ।\n",
        "संघीय सरकारसँगको सहकार्यमा भारतका प्रमुख शहरमा हवाई र बस सेवा सञ्चालन गर्ने समेत नीतिमा उल्लेख गरिएको छ । काठमाडौं केन्द्रित पर्यटनलाई अन्य क्षेत्रमा विस्तार गर्न काठमाडौं आसपासमा पर्यटन गन्तव्यको विकास गरी सहज पहुँच मार्गको विकास गर्ने समेत नीतिमा उल्लेख छ ।\n",
        "स्थानीय तहसँगको सहकार्यमा प्रदेशभरका पर्यटकीय गन्तव्यमा खानेपानी, शौचालय, सरसफाइ, ढल निकास, साइकल लेन, निःशुल्क इन्टरनेटसहितका सुविधा उपलब्ध गराउने समेत प्रदेश पर्यटन नीतिमा उल्लेख छ ।\n",
        "होमस्टेलाई आकर्षण\n",
        "प्रदेश पर्यटन नीतिले पर्यटनको लाभ स्थानीय स्तरसम्म पुर्‍याउन होमस्टेलाई एम प्रमुख माध्यम बनाउने भनेको छ । जौविक कृषि तथा हस्तकलाको प्रबर्द्धन गरी आयआर्जनका लागि बजारीकरणको विस्तार गर्ने समेत पर्यटन नीतिको योजना छ ।\n",
        "स्थानीय कृषि उत्पादनमा प्रदेश सरकारले सहयोग गरी बजारीकरणमा समेत सरकारले ध्यान दिने नीतिमा उल्लेख गरिएको छ । हस्तकलाको बिक्री गर्न समेत प्रदेश सरकारले विशेष प्रबन्ध गर्ने भनेको छ । महिलाको नेतृत्वमा वा महिला समूहद्धारा सञ्तालन गरिने पर्यटकीय क्रियाकलापलाई विशेष प्रोत्साहन दिइने भएको छ ।\n",
        "प्रदेश सरकारले पशुपति क्षेत्रको विकास र संरक्षणका लागि पशुपति क्षेत्र विकास कोषसँग सहकार्य गर्ने समेत नीति लिने भएको छ । लुम्बिनी प्रदेश र गण्डकी प्रदेशसँग समन्वय र साझोदारीमा देवघाट, मनकामना, बुढीगण्डकी, त्रिवेणीधाम लगायत तीर्थस्थलमा पर्यटकीय पूर्वाधारको विकास गर्ने समेत नीतिको लक्ष्य छ । अन्तर्राष्ट्रिय बौद्ध परिपथ र अन्तर्राष्ट्रिय पशुपति परिपथको समेत परिकल्पना नीतिमा गरिएको छ ।\n",
        "प्रदेश बोर्डमार्फत कार्यान्वयन\n",
        "पर्यटन नीतिको कार्यान्वयनका लागि प्रदेशमा छुट्टै पर्यटन बोर्डको अवधारणा राखिएको छ । त्यसका लागि नियामावली तथा प्रदेश पर्यटन बोर्ड ऐन निर्माण गरिने उल्लेख छ ।\n",
        "प्रदेशको आवधिक योजनाले पर्यटनलाई एक प्रमुख क्षेत्रका रुपमा प्रस्तुत गरेको भन्दै यसको कार्यान्वयनका लागि दिशा निर्देशन गर्न यस्तो ऐन बनाउन लागिएको प्रदेश सरकार पर्यटन तथा संस्कृति मन्त्रालयको भनाई छ । नीतिले पर्यटन आयमा वृद्धि : रोजगारी र समृद्धि नामक दूरददृष्टि बोकेको छ ।\n",
        "'''"
      ],
      "metadata": {
        "id": "jxi6fnc7KGLZ"
      },
      "execution_count": 27,
      "outputs": []
    },
    {
      "cell_type": "code",
      "source": [
        "def preprocess(text):\n",
        "  '''preprocess text to remove punctuations and newline characters'''\n",
        "  sentences = text.split(u\"।\")\n",
        "  sentences = [x.translate(str.maketrans('\\n\\xa0','  ',string.punctuation)).strip() for x in sentences]\n",
        "  return sentences"
      ],
      "metadata": {
        "id": "u6qwAFGkKREP"
      },
      "execution_count": 28,
      "outputs": []
    },
    {
      "cell_type": "code",
      "source": [
        "def vectorize(sentences,embedding):\n",
        "  '''create vectors from sentences using word2vec embedding'''\n",
        "  X = []\n",
        "  vocab = embedding.wv.vocab\n",
        "  for sentence in sentences:\n",
        "    words = sentence.split(\" \")\n",
        "    sent_vec = np.zeros((embedding.vector_size))\n",
        "    n_words = 0\n",
        "    for word in words:\n",
        "      if word in vocab:\n",
        "        sent_vec+=word_vec.wv[word]\n",
        "        n_words += 1\n",
        "    X.append(sent_vec)\n",
        "  \n",
        "  return X"
      ],
      "metadata": {
        "id": "tgrU-p-mKTRc"
      },
      "execution_count": 29,
      "outputs": []
    },
    {
      "cell_type": "code",
      "source": [
        "def summary(X,lines=5):\n",
        "  '''create clusters of related sentences, get most closest from cluster sentences\n",
        " Returns index of choosen sentences and order of sentences\n",
        " '''\n",
        "  n_clusters = lines\n",
        "  kmeans = KMeans(n_clusters=n_clusters,max_iter=7)\n",
        "  kmeans = kmeans.fit(X)\n",
        "  \n",
        "  print(\"No. of iterations: \",kmeans.n_iter_)\n",
        "  # print(kmeans.labels_) # gives cluster for each sentence \n",
        "  avg_pos = []\n",
        "  for j in range(n_clusters):\n",
        "    idx = np.where(kmeans.labels_ == j)\n",
        "    avg_pos.append(np.mean(idx)) # average position of sentences in a cluster\n",
        "  closest, _ = pairwise_distances_argmin_min(kmeans.cluster_centers_, X) #return index and distance of distance from cluster centroid\n",
        "  ordering = sorted(range(n_clusters), key=lambda k: avg_pos[k]) # ordered selected sentences based on average position of each cluster\n",
        "\n",
        "  return closest,ordering"
      ],
      "metadata": {
        "id": "2eTzcya2Kg4s"
      },
      "execution_count": 37,
      "outputs": []
    },
    {
      "cell_type": "code",
      "source": [
        "def get_summary(text,embedding,n=3):\n",
        "  '''Get summary of Nepali text\n",
        "  text: Original Text\n",
        "  embedding: word2vec embedding vector\n",
        "  n = No of sentences to get as suumary\n",
        "  '''\n",
        "  processed_text = preprocess(text)\n",
        "  vec_input = vectorize(processed_text,embedding)\n",
        "  sents_idx, sents_order = summary(vec_input,n)\n",
        "\n",
        "  return \"|\".join([processed_text[sents_idx[x]] for x in sents_order])"
      ],
      "metadata": {
        "id": "eHqBa4acKlzR"
      },
      "execution_count": 35,
      "outputs": []
    },
    {
      "cell_type": "code",
      "source": [
        "word_vec = load_vector()"
      ],
      "metadata": {
        "id": "ImCNDekjKnA_"
      },
      "execution_count": 32,
      "outputs": []
    },
    {
      "cell_type": "code",
      "source": [
        "result = get_summary(text2,word_vec,7)\n",
        "print(\"Summarized News\\n\")\n",
        "sents  = result.split(\"|\")\n",
        "for sent in sents:\n",
        "  if len(sent)>1: print(sent,\"|\")"
      ],
      "metadata": {
        "colab": {
          "base_uri": "https://localhost:8080/"
        },
        "id": "OWA8s-kTKoIW",
        "outputId": "31ff521e-bbf2-45f3-801c-c6e5b98e8ae1"
      },
      "execution_count": 40,
      "outputs": [
        {
          "output_type": "stream",
          "name": "stdout",
          "text": [
            "No. of iterations:  2\n",
            "Summarized News\n",
            "\n",
            "त्यसका लागि सडकको मर्मत सुधार सरकारले गर्ने र होटल लगायत सुविधाको विकास र विस्तारमा निजी क्षेत्रलाई प्रोत्साहन गर्ने नीति प्रदेश सरकारले लिने भएको छ |\n",
            "पर्यटनको सम्भाव्यता भएका जिरी शैलुङ कालिञ्चोक र महाभारत क्षेत्रका हिल स्टेशनको एकीकृत विकासका लागि सडकलगायतका पूर्वाधार र स्तरोन्नतीमा ध्यान दिने समेत पर्यटन नीतिमा उल्लेख छ |\n",
            "बागमती प्रदेश संस्कृति तथा पर्यटन मन्त्रालयले रायका लागि सार्वजनिक गरेको प्रदेश पर्यटन नीति २०७९ को मस्यौदा अनुसार पर्यटन पूर्वाधारको विकास र विस्तारको योजनामा यस्ता आयोजना समेटिएका छन् |\n",
            "स्थानीय तहसँगको सहकार्यमा प्रदेशभरका पर्यटकीय गन्तव्यमा खानेपानी शौचालय सरसफाइ ढल निकास साइकल लेन निःशुल्क इन्टरनेटसहितका सुविधा उपलब्ध गराउने समेत प्रदेश पर्यटन नीतिमा उल्लेख छ |\n",
            "त्यसका लागि नियामावली तथा प्रदेश पर्यटन बोर्ड ऐन निर्माण गरिने उल्लेख छ |\n",
            "प्रदेशको आवधिक योजनाले पर्यटनलाई एक प्रमुख क्षेत्रका रुपमा प्रस्तुत गरेको भन्दै यसको कार्यान्वयनका लागि दिशा निर्देशन गर्न यस्तो ऐन बनाउन लागिएको प्रदेश सरकार पर्यटन तथा संस्कृति मन्त्रालयको भनाई छ |\n",
            "हस्तकलाको बिक्री गर्न समेत प्रदेश सरकारले विशेष प्रबन्ध गर्ने भनेको छ |\n"
          ]
        }
      ]
    },
    {
      "cell_type": "code",
      "source": [],
      "metadata": {
        "id": "YHcJFP55K_Kv"
      },
      "execution_count": 40,
      "outputs": []
    }
  ]
}