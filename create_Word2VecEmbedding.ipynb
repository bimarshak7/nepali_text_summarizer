{
  "cells": [
    {
      "cell_type": "markdown",
      "metadata": {
        "id": "view-in-github",
        "colab_type": "text"
      },
      "source": [
        "<a href=\"https://colab.research.google.com/github/bimarshak7/nepali_text_summarizer/blob/main/create_Word2VecEmbedding.ipynb\" target=\"_parent\"><img src=\"https://colab.research.google.com/assets/colab-badge.svg\" alt=\"Open In Colab\"/></a>"
      ]
    },
    {
      "cell_type": "markdown",
      "source": [
        "## Load dataset"
      ],
      "metadata": {
        "id": "upgmZcBHkeSX"
      }
    },
    {
      "cell_type": "code",
      "source": [
        "import pandas as pd"
      ],
      "metadata": {
        "id": "aGm-EkE9kdHP"
      },
      "execution_count": 2,
      "outputs": []
    },
    {
      "cell_type": "code",
      "source": [
        "news2  = pd.read_csv(\"/content/drive/MyDrive/NLP/ap2.csv\")\n",
        "news2.head()"
      ],
      "metadata": {
        "colab": {
          "base_uri": "https://localhost:8080/",
          "height": 206
        },
        "id": "TpmXaidog9aS",
        "outputId": "6de2d155-d1ee-4093-fd6f-d2df7f380465"
      },
      "execution_count": 52,
      "outputs": [
        {
          "output_type": "execute_result",
          "data": {
            "text/plain": [
              "         id                 date_published  \\\n",
              "0  208422p1   असार ३०, २०७९ बिहिबार ११:०:०   \n",
              "1  159079p1  असार ५, २०७७ शुक्रबार १२:४८:०   \n",
              "2  157801p1    जेठ २३, २०७७ शुक्रबार ७:०:०   \n",
              "3  157795p1   जेठ २३, २०७७ शुक्रबार ५:५९:०   \n",
              "4  157001p1    जेठ १४, २०७७ बुधबार १३:३२:०   \n",
              "\n",
              "                                     title  \\\n",
              "0            सरकारप्रतिको गिर्दो जनविश्वास   \n",
              "1                    लद्दाखमा चीनको लक्ष्य   \n",
              "2         आगामी दिनमा बसाल्नुपर्ने आनीबानी   \n",
              "3               आधुनिक अन्धकार युगमा पिरती   \n",
              "4  शक्तिशाली देशको कोरोनाविरुद्ध कमजोर कदम   \n",
              "\n",
              "                                                news  \n",
              "0  जनताको विश्वास र बैधतामा शासन गर्ने सरकारहरू ज...  \n",
              "1  अहिले लद्दाख संकटलाई लिएर भारतमा भएको बहस एउटै...  \n",
              "2  पहिलाको जीवन सरल थियो। न मुखमा मास्क चाहिन्थ्य...  \n",
              "3    जन्मनेबित्तिकै मुहारमा जातीयताको चिह्न लगाइद...  \n",
              "4  अमेरिकाका डोनाल्ड ट्रम्प, रुसका भ्लादिमिर पुटि...  "
            ],
            "text/html": [
              "\n",
              "  <div id=\"df-4620c240-c99f-4eba-a164-c3feb110d718\">\n",
              "    <div class=\"colab-df-container\">\n",
              "      <div>\n",
              "<style scoped>\n",
              "    .dataframe tbody tr th:only-of-type {\n",
              "        vertical-align: middle;\n",
              "    }\n",
              "\n",
              "    .dataframe tbody tr th {\n",
              "        vertical-align: top;\n",
              "    }\n",
              "\n",
              "    .dataframe thead th {\n",
              "        text-align: right;\n",
              "    }\n",
              "</style>\n",
              "<table border=\"1\" class=\"dataframe\">\n",
              "  <thead>\n",
              "    <tr style=\"text-align: right;\">\n",
              "      <th></th>\n",
              "      <th>id</th>\n",
              "      <th>date_published</th>\n",
              "      <th>title</th>\n",
              "      <th>news</th>\n",
              "    </tr>\n",
              "  </thead>\n",
              "  <tbody>\n",
              "    <tr>\n",
              "      <th>0</th>\n",
              "      <td>208422p1</td>\n",
              "      <td>असार ३०, २०७९ बिहिबार ११:०:०</td>\n",
              "      <td>सरकारप्रतिको गिर्दो जनविश्वास</td>\n",
              "      <td>जनताको विश्वास र बैधतामा शासन गर्ने सरकारहरू ज...</td>\n",
              "    </tr>\n",
              "    <tr>\n",
              "      <th>1</th>\n",
              "      <td>159079p1</td>\n",
              "      <td>असार ५, २०७७ शुक्रबार १२:४८:०</td>\n",
              "      <td>लद्दाखमा चीनको लक्ष्य</td>\n",
              "      <td>अहिले लद्दाख संकटलाई लिएर भारतमा भएको बहस एउटै...</td>\n",
              "    </tr>\n",
              "    <tr>\n",
              "      <th>2</th>\n",
              "      <td>157801p1</td>\n",
              "      <td>जेठ २३, २०७७ शुक्रबार ७:०:०</td>\n",
              "      <td>आगामी दिनमा बसाल्नुपर्ने आनीबानी</td>\n",
              "      <td>पहिलाको जीवन सरल थियो। न मुखमा मास्क चाहिन्थ्य...</td>\n",
              "    </tr>\n",
              "    <tr>\n",
              "      <th>3</th>\n",
              "      <td>157795p1</td>\n",
              "      <td>जेठ २३, २०७७ शुक्रबार ५:५९:०</td>\n",
              "      <td>आधुनिक अन्धकार युगमा पिरती</td>\n",
              "      <td>जन्मनेबित्तिकै मुहारमा जातीयताको चिह्न लगाइद...</td>\n",
              "    </tr>\n",
              "    <tr>\n",
              "      <th>4</th>\n",
              "      <td>157001p1</td>\n",
              "      <td>जेठ १४, २०७७ बुधबार १३:३२:०</td>\n",
              "      <td>शक्तिशाली देशको कोरोनाविरुद्ध कमजोर कदम</td>\n",
              "      <td>अमेरिकाका डोनाल्ड ट्रम्प, रुसका भ्लादिमिर पुटि...</td>\n",
              "    </tr>\n",
              "  </tbody>\n",
              "</table>\n",
              "</div>\n",
              "      <button class=\"colab-df-convert\" onclick=\"convertToInteractive('df-4620c240-c99f-4eba-a164-c3feb110d718')\"\n",
              "              title=\"Convert this dataframe to an interactive table.\"\n",
              "              style=\"display:none;\">\n",
              "        \n",
              "  <svg xmlns=\"http://www.w3.org/2000/svg\" height=\"24px\"viewBox=\"0 0 24 24\"\n",
              "       width=\"24px\">\n",
              "    <path d=\"M0 0h24v24H0V0z\" fill=\"none\"/>\n",
              "    <path d=\"M18.56 5.44l.94 2.06.94-2.06 2.06-.94-2.06-.94-.94-2.06-.94 2.06-2.06.94zm-11 1L8.5 8.5l.94-2.06 2.06-.94-2.06-.94L8.5 2.5l-.94 2.06-2.06.94zm10 10l.94 2.06.94-2.06 2.06-.94-2.06-.94-.94-2.06-.94 2.06-2.06.94z\"/><path d=\"M17.41 7.96l-1.37-1.37c-.4-.4-.92-.59-1.43-.59-.52 0-1.04.2-1.43.59L10.3 9.45l-7.72 7.72c-.78.78-.78 2.05 0 2.83L4 21.41c.39.39.9.59 1.41.59.51 0 1.02-.2 1.41-.59l7.78-7.78 2.81-2.81c.8-.78.8-2.07 0-2.86zM5.41 20L4 18.59l7.72-7.72 1.47 1.35L5.41 20z\"/>\n",
              "  </svg>\n",
              "      </button>\n",
              "      \n",
              "  <style>\n",
              "    .colab-df-container {\n",
              "      display:flex;\n",
              "      flex-wrap:wrap;\n",
              "      gap: 12px;\n",
              "    }\n",
              "\n",
              "    .colab-df-convert {\n",
              "      background-color: #E8F0FE;\n",
              "      border: none;\n",
              "      border-radius: 50%;\n",
              "      cursor: pointer;\n",
              "      display: none;\n",
              "      fill: #1967D2;\n",
              "      height: 32px;\n",
              "      padding: 0 0 0 0;\n",
              "      width: 32px;\n",
              "    }\n",
              "\n",
              "    .colab-df-convert:hover {\n",
              "      background-color: #E2EBFA;\n",
              "      box-shadow: 0px 1px 2px rgba(60, 64, 67, 0.3), 0px 1px 3px 1px rgba(60, 64, 67, 0.15);\n",
              "      fill: #174EA6;\n",
              "    }\n",
              "\n",
              "    [theme=dark] .colab-df-convert {\n",
              "      background-color: #3B4455;\n",
              "      fill: #D2E3FC;\n",
              "    }\n",
              "\n",
              "    [theme=dark] .colab-df-convert:hover {\n",
              "      background-color: #434B5C;\n",
              "      box-shadow: 0px 1px 3px 1px rgba(0, 0, 0, 0.15);\n",
              "      filter: drop-shadow(0px 1px 2px rgba(0, 0, 0, 0.3));\n",
              "      fill: #FFFFFF;\n",
              "    }\n",
              "  </style>\n",
              "\n",
              "      <script>\n",
              "        const buttonEl =\n",
              "          document.querySelector('#df-4620c240-c99f-4eba-a164-c3feb110d718 button.colab-df-convert');\n",
              "        buttonEl.style.display =\n",
              "          google.colab.kernel.accessAllowed ? 'block' : 'none';\n",
              "\n",
              "        async function convertToInteractive(key) {\n",
              "          const element = document.querySelector('#df-4620c240-c99f-4eba-a164-c3feb110d718');\n",
              "          const dataTable =\n",
              "            await google.colab.kernel.invokeFunction('convertToInteractive',\n",
              "                                                     [key], {});\n",
              "          if (!dataTable) return;\n",
              "\n",
              "          const docLinkHtml = 'Like what you see? Visit the ' +\n",
              "            '<a target=\"_blank\" href=https://colab.research.google.com/notebooks/data_table.ipynb>data table notebook</a>'\n",
              "            + ' to learn more about interactive tables.';\n",
              "          element.innerHTML = '';\n",
              "          dataTable['output_type'] = 'display_data';\n",
              "          await google.colab.output.renderOutput(dataTable, element);\n",
              "          const docLink = document.createElement('div');\n",
              "          docLink.innerHTML = docLinkHtml;\n",
              "          element.appendChild(docLink);\n",
              "        }\n",
              "      </script>\n",
              "    </div>\n",
              "  </div>\n",
              "  "
            ]
          },
          "metadata": {},
          "execution_count": 52
        }
      ]
    },
    {
      "cell_type": "code",
      "source": [
        "news3 = pd.read_csv(\"/content/drive/MyDrive/NLP/NLP/news_data.csv\",delimiter=\"~#\")\n",
        "news3 = news3.drop_duplicates(keep='first', inplace=False)\n",
        "news3.head()"
      ],
      "metadata": {
        "colab": {
          "base_uri": "https://localhost:8080/",
          "height": 206
        },
        "id": "iVuhnmZd1_Pc",
        "outputId": "1a6a0e4a-9ee7-437f-d78c-a2706d46a1c4"
      },
      "execution_count": 53,
      "outputs": [
        {
          "output_type": "execute_result",
          "data": {
            "text/plain": [
              "   id date_published                     title  \\\n",
              "0  23     2013-03-31        सरकारको सेन्सरशाला   \n",
              "1  24     2013-03-31   अब निशानामा न्यायपालिका   \n",
              "2  25     2013-03-31  बग्दैछ आइसीको उल्टो गंगा   \n",
              "3  26     2013-03-31     डिल्ले दमाइका शोक धुन   \n",
              "4  27     2013-04-01       मंसिरमा चुनावः खनाल   \n",
              "\n",
              "                                                news  \n",
              "0    प्रायः विवादका विषयमा विवादै चल्ने गरी चलचित...  \n",
              "1    सिद्धान्ततः एकीकृत नेपाल कम्युनिष्ट पार्टी–म...  \n",
              "2    वीरगन्ज, चैत १८– बिरामी नातिको माया कतिसम्म ...  \n",
              "3    चैनपुर (संखुवासभा)– २०१३ सालताका पूर्वी नेपा...  \n",
              "4    काठमाडौं, चैत १८ (सेतोपाटी)– एमाले अध्यक्ष झ...  "
            ],
            "text/html": [
              "\n",
              "  <div id=\"df-693f61dc-fb31-4b22-aef2-a708dd0909ae\">\n",
              "    <div class=\"colab-df-container\">\n",
              "      <div>\n",
              "<style scoped>\n",
              "    .dataframe tbody tr th:only-of-type {\n",
              "        vertical-align: middle;\n",
              "    }\n",
              "\n",
              "    .dataframe tbody tr th {\n",
              "        vertical-align: top;\n",
              "    }\n",
              "\n",
              "    .dataframe thead th {\n",
              "        text-align: right;\n",
              "    }\n",
              "</style>\n",
              "<table border=\"1\" class=\"dataframe\">\n",
              "  <thead>\n",
              "    <tr style=\"text-align: right;\">\n",
              "      <th></th>\n",
              "      <th>id</th>\n",
              "      <th>date_published</th>\n",
              "      <th>title</th>\n",
              "      <th>news</th>\n",
              "    </tr>\n",
              "  </thead>\n",
              "  <tbody>\n",
              "    <tr>\n",
              "      <th>0</th>\n",
              "      <td>23</td>\n",
              "      <td>2013-03-31</td>\n",
              "      <td>सरकारको सेन्सरशाला</td>\n",
              "      <td>प्रायः विवादका विषयमा विवादै चल्ने गरी चलचित...</td>\n",
              "    </tr>\n",
              "    <tr>\n",
              "      <th>1</th>\n",
              "      <td>24</td>\n",
              "      <td>2013-03-31</td>\n",
              "      <td>अब निशानामा न्यायपालिका</td>\n",
              "      <td>सिद्धान्ततः एकीकृत नेपाल कम्युनिष्ट पार्टी–म...</td>\n",
              "    </tr>\n",
              "    <tr>\n",
              "      <th>2</th>\n",
              "      <td>25</td>\n",
              "      <td>2013-03-31</td>\n",
              "      <td>बग्दैछ आइसीको उल्टो गंगा</td>\n",
              "      <td>वीरगन्ज, चैत १८– बिरामी नातिको माया कतिसम्म ...</td>\n",
              "    </tr>\n",
              "    <tr>\n",
              "      <th>3</th>\n",
              "      <td>26</td>\n",
              "      <td>2013-03-31</td>\n",
              "      <td>डिल्ले दमाइका शोक धुन</td>\n",
              "      <td>चैनपुर (संखुवासभा)– २०१३ सालताका पूर्वी नेपा...</td>\n",
              "    </tr>\n",
              "    <tr>\n",
              "      <th>4</th>\n",
              "      <td>27</td>\n",
              "      <td>2013-04-01</td>\n",
              "      <td>मंसिरमा चुनावः खनाल</td>\n",
              "      <td>काठमाडौं, चैत १८ (सेतोपाटी)– एमाले अध्यक्ष झ...</td>\n",
              "    </tr>\n",
              "  </tbody>\n",
              "</table>\n",
              "</div>\n",
              "      <button class=\"colab-df-convert\" onclick=\"convertToInteractive('df-693f61dc-fb31-4b22-aef2-a708dd0909ae')\"\n",
              "              title=\"Convert this dataframe to an interactive table.\"\n",
              "              style=\"display:none;\">\n",
              "        \n",
              "  <svg xmlns=\"http://www.w3.org/2000/svg\" height=\"24px\"viewBox=\"0 0 24 24\"\n",
              "       width=\"24px\">\n",
              "    <path d=\"M0 0h24v24H0V0z\" fill=\"none\"/>\n",
              "    <path d=\"M18.56 5.44l.94 2.06.94-2.06 2.06-.94-2.06-.94-.94-2.06-.94 2.06-2.06.94zm-11 1L8.5 8.5l.94-2.06 2.06-.94-2.06-.94L8.5 2.5l-.94 2.06-2.06.94zm10 10l.94 2.06.94-2.06 2.06-.94-2.06-.94-.94-2.06-.94 2.06-2.06.94z\"/><path d=\"M17.41 7.96l-1.37-1.37c-.4-.4-.92-.59-1.43-.59-.52 0-1.04.2-1.43.59L10.3 9.45l-7.72 7.72c-.78.78-.78 2.05 0 2.83L4 21.41c.39.39.9.59 1.41.59.51 0 1.02-.2 1.41-.59l7.78-7.78 2.81-2.81c.8-.78.8-2.07 0-2.86zM5.41 20L4 18.59l7.72-7.72 1.47 1.35L5.41 20z\"/>\n",
              "  </svg>\n",
              "      </button>\n",
              "      \n",
              "  <style>\n",
              "    .colab-df-container {\n",
              "      display:flex;\n",
              "      flex-wrap:wrap;\n",
              "      gap: 12px;\n",
              "    }\n",
              "\n",
              "    .colab-df-convert {\n",
              "      background-color: #E8F0FE;\n",
              "      border: none;\n",
              "      border-radius: 50%;\n",
              "      cursor: pointer;\n",
              "      display: none;\n",
              "      fill: #1967D2;\n",
              "      height: 32px;\n",
              "      padding: 0 0 0 0;\n",
              "      width: 32px;\n",
              "    }\n",
              "\n",
              "    .colab-df-convert:hover {\n",
              "      background-color: #E2EBFA;\n",
              "      box-shadow: 0px 1px 2px rgba(60, 64, 67, 0.3), 0px 1px 3px 1px rgba(60, 64, 67, 0.15);\n",
              "      fill: #174EA6;\n",
              "    }\n",
              "\n",
              "    [theme=dark] .colab-df-convert {\n",
              "      background-color: #3B4455;\n",
              "      fill: #D2E3FC;\n",
              "    }\n",
              "\n",
              "    [theme=dark] .colab-df-convert:hover {\n",
              "      background-color: #434B5C;\n",
              "      box-shadow: 0px 1px 3px 1px rgba(0, 0, 0, 0.15);\n",
              "      filter: drop-shadow(0px 1px 2px rgba(0, 0, 0, 0.3));\n",
              "      fill: #FFFFFF;\n",
              "    }\n",
              "  </style>\n",
              "\n",
              "      <script>\n",
              "        const buttonEl =\n",
              "          document.querySelector('#df-693f61dc-fb31-4b22-aef2-a708dd0909ae button.colab-df-convert');\n",
              "        buttonEl.style.display =\n",
              "          google.colab.kernel.accessAllowed ? 'block' : 'none';\n",
              "\n",
              "        async function convertToInteractive(key) {\n",
              "          const element = document.querySelector('#df-693f61dc-fb31-4b22-aef2-a708dd0909ae');\n",
              "          const dataTable =\n",
              "            await google.colab.kernel.invokeFunction('convertToInteractive',\n",
              "                                                     [key], {});\n",
              "          if (!dataTable) return;\n",
              "\n",
              "          const docLinkHtml = 'Like what you see? Visit the ' +\n",
              "            '<a target=\"_blank\" href=https://colab.research.google.com/notebooks/data_table.ipynb>data table notebook</a>'\n",
              "            + ' to learn more about interactive tables.';\n",
              "          element.innerHTML = '';\n",
              "          dataTable['output_type'] = 'display_data';\n",
              "          await google.colab.output.renderOutput(dataTable, element);\n",
              "          const docLink = document.createElement('div');\n",
              "          docLink.innerHTML = docLinkHtml;\n",
              "          element.appendChild(docLink);\n",
              "        }\n",
              "      </script>\n",
              "    </div>\n",
              "  </div>\n",
              "  "
            ]
          },
          "metadata": {},
          "execution_count": 53
        }
      ]
    },
    {
      "cell_type": "code",
      "source": [
        "newsMerge = pd.concat([news2,news3])\n",
        "newsMerge.head(2)"
      ],
      "metadata": {
        "colab": {
          "base_uri": "https://localhost:8080/",
          "height": 112
        },
        "id": "cyimPB4Y2L-2",
        "outputId": "f2a8e011-1cc1-49d0-86cc-499ff5f845e9"
      },
      "execution_count": 54,
      "outputs": [
        {
          "output_type": "execute_result",
          "data": {
            "text/plain": [
              "         id                 date_published                          title  \\\n",
              "0  208422p1   असार ३०, २०७९ बिहिबार ११:०:०  सरकारप्रतिको गिर्दो जनविश्वास   \n",
              "1  159079p1  असार ५, २०७७ शुक्रबार १२:४८:०          लद्दाखमा चीनको लक्ष्य   \n",
              "\n",
              "                                                news  \n",
              "0  जनताको विश्वास र बैधतामा शासन गर्ने सरकारहरू ज...  \n",
              "1  अहिले लद्दाख संकटलाई लिएर भारतमा भएको बहस एउटै...  "
            ],
            "text/html": [
              "\n",
              "  <div id=\"df-0e83512c-4efb-4ea7-b05d-0604f16c1e64\">\n",
              "    <div class=\"colab-df-container\">\n",
              "      <div>\n",
              "<style scoped>\n",
              "    .dataframe tbody tr th:only-of-type {\n",
              "        vertical-align: middle;\n",
              "    }\n",
              "\n",
              "    .dataframe tbody tr th {\n",
              "        vertical-align: top;\n",
              "    }\n",
              "\n",
              "    .dataframe thead th {\n",
              "        text-align: right;\n",
              "    }\n",
              "</style>\n",
              "<table border=\"1\" class=\"dataframe\">\n",
              "  <thead>\n",
              "    <tr style=\"text-align: right;\">\n",
              "      <th></th>\n",
              "      <th>id</th>\n",
              "      <th>date_published</th>\n",
              "      <th>title</th>\n",
              "      <th>news</th>\n",
              "    </tr>\n",
              "  </thead>\n",
              "  <tbody>\n",
              "    <tr>\n",
              "      <th>0</th>\n",
              "      <td>208422p1</td>\n",
              "      <td>असार ३०, २०७९ बिहिबार ११:०:०</td>\n",
              "      <td>सरकारप्रतिको गिर्दो जनविश्वास</td>\n",
              "      <td>जनताको विश्वास र बैधतामा शासन गर्ने सरकारहरू ज...</td>\n",
              "    </tr>\n",
              "    <tr>\n",
              "      <th>1</th>\n",
              "      <td>159079p1</td>\n",
              "      <td>असार ५, २०७७ शुक्रबार १२:४८:०</td>\n",
              "      <td>लद्दाखमा चीनको लक्ष्य</td>\n",
              "      <td>अहिले लद्दाख संकटलाई लिएर भारतमा भएको बहस एउटै...</td>\n",
              "    </tr>\n",
              "  </tbody>\n",
              "</table>\n",
              "</div>\n",
              "      <button class=\"colab-df-convert\" onclick=\"convertToInteractive('df-0e83512c-4efb-4ea7-b05d-0604f16c1e64')\"\n",
              "              title=\"Convert this dataframe to an interactive table.\"\n",
              "              style=\"display:none;\">\n",
              "        \n",
              "  <svg xmlns=\"http://www.w3.org/2000/svg\" height=\"24px\"viewBox=\"0 0 24 24\"\n",
              "       width=\"24px\">\n",
              "    <path d=\"M0 0h24v24H0V0z\" fill=\"none\"/>\n",
              "    <path d=\"M18.56 5.44l.94 2.06.94-2.06 2.06-.94-2.06-.94-.94-2.06-.94 2.06-2.06.94zm-11 1L8.5 8.5l.94-2.06 2.06-.94-2.06-.94L8.5 2.5l-.94 2.06-2.06.94zm10 10l.94 2.06.94-2.06 2.06-.94-2.06-.94-.94-2.06-.94 2.06-2.06.94z\"/><path d=\"M17.41 7.96l-1.37-1.37c-.4-.4-.92-.59-1.43-.59-.52 0-1.04.2-1.43.59L10.3 9.45l-7.72 7.72c-.78.78-.78 2.05 0 2.83L4 21.41c.39.39.9.59 1.41.59.51 0 1.02-.2 1.41-.59l7.78-7.78 2.81-2.81c.8-.78.8-2.07 0-2.86zM5.41 20L4 18.59l7.72-7.72 1.47 1.35L5.41 20z\"/>\n",
              "  </svg>\n",
              "      </button>\n",
              "      \n",
              "  <style>\n",
              "    .colab-df-container {\n",
              "      display:flex;\n",
              "      flex-wrap:wrap;\n",
              "      gap: 12px;\n",
              "    }\n",
              "\n",
              "    .colab-df-convert {\n",
              "      background-color: #E8F0FE;\n",
              "      border: none;\n",
              "      border-radius: 50%;\n",
              "      cursor: pointer;\n",
              "      display: none;\n",
              "      fill: #1967D2;\n",
              "      height: 32px;\n",
              "      padding: 0 0 0 0;\n",
              "      width: 32px;\n",
              "    }\n",
              "\n",
              "    .colab-df-convert:hover {\n",
              "      background-color: #E2EBFA;\n",
              "      box-shadow: 0px 1px 2px rgba(60, 64, 67, 0.3), 0px 1px 3px 1px rgba(60, 64, 67, 0.15);\n",
              "      fill: #174EA6;\n",
              "    }\n",
              "\n",
              "    [theme=dark] .colab-df-convert {\n",
              "      background-color: #3B4455;\n",
              "      fill: #D2E3FC;\n",
              "    }\n",
              "\n",
              "    [theme=dark] .colab-df-convert:hover {\n",
              "      background-color: #434B5C;\n",
              "      box-shadow: 0px 1px 3px 1px rgba(0, 0, 0, 0.15);\n",
              "      filter: drop-shadow(0px 1px 2px rgba(0, 0, 0, 0.3));\n",
              "      fill: #FFFFFF;\n",
              "    }\n",
              "  </style>\n",
              "\n",
              "      <script>\n",
              "        const buttonEl =\n",
              "          document.querySelector('#df-0e83512c-4efb-4ea7-b05d-0604f16c1e64 button.colab-df-convert');\n",
              "        buttonEl.style.display =\n",
              "          google.colab.kernel.accessAllowed ? 'block' : 'none';\n",
              "\n",
              "        async function convertToInteractive(key) {\n",
              "          const element = document.querySelector('#df-0e83512c-4efb-4ea7-b05d-0604f16c1e64');\n",
              "          const dataTable =\n",
              "            await google.colab.kernel.invokeFunction('convertToInteractive',\n",
              "                                                     [key], {});\n",
              "          if (!dataTable) return;\n",
              "\n",
              "          const docLinkHtml = 'Like what you see? Visit the ' +\n",
              "            '<a target=\"_blank\" href=https://colab.research.google.com/notebooks/data_table.ipynb>data table notebook</a>'\n",
              "            + ' to learn more about interactive tables.';\n",
              "          element.innerHTML = '';\n",
              "          dataTable['output_type'] = 'display_data';\n",
              "          await google.colab.output.renderOutput(dataTable, element);\n",
              "          const docLink = document.createElement('div');\n",
              "          docLink.innerHTML = docLinkHtml;\n",
              "          element.appendChild(docLink);\n",
              "        }\n",
              "      </script>\n",
              "    </div>\n",
              "  </div>\n",
              "  "
            ]
          },
          "metadata": {},
          "execution_count": 54
        }
      ]
    },
    {
      "cell_type": "code",
      "source": [
        "newsMerge.isna().sum()"
      ],
      "metadata": {
        "colab": {
          "base_uri": "https://localhost:8080/"
        },
        "id": "pw2TCGcX2TgA",
        "outputId": "11182a94-90fe-41c5-84f3-dadbe65824d5"
      },
      "execution_count": 56,
      "outputs": [
        {
          "output_type": "execute_result",
          "data": {
            "text/plain": [
              "id                  0\n",
              "date_published    516\n",
              "title             516\n",
              "news              516\n",
              "dtype: int64"
            ]
          },
          "metadata": {},
          "execution_count": 56
        }
      ]
    },
    {
      "cell_type": "code",
      "source": [
        "newsMerge.dropna(inplace=True)"
      ],
      "metadata": {
        "id": "o8Y9Mrv52aew"
      },
      "execution_count": 57,
      "outputs": []
    },
    {
      "cell_type": "code",
      "source": [
        "newsMerge.isna().sum()"
      ],
      "metadata": {
        "colab": {
          "base_uri": "https://localhost:8080/"
        },
        "id": "PV-AKBs02d5j",
        "outputId": "41e9a44f-b061-443b-80ac-9c4380d0d651"
      },
      "execution_count": 58,
      "outputs": [
        {
          "output_type": "execute_result",
          "data": {
            "text/plain": [
              "id                0\n",
              "date_published    0\n",
              "title             0\n",
              "news              0\n",
              "dtype: int64"
            ]
          },
          "metadata": {},
          "execution_count": 58
        }
      ]
    },
    {
      "cell_type": "code",
      "source": [
        "newsMerge['title'] = newsMerge['title'].apply(lambda x: x+'।') # add purnabiram at end of news title"
      ],
      "metadata": {
        "id": "ZLS_4kCU2e61"
      },
      "execution_count": 59,
      "outputs": []
    },
    {
      "cell_type": "code",
      "source": [
        "newsMerge.to_csv('/content/drive/MyDrive/NLP/news_big.csv', sep=\",\", index=False) # save merged dataset for later"
      ],
      "metadata": {
        "id": "fpz_M-rz2smI"
      },
      "execution_count": 60,
      "outputs": []
    },
    {
      "cell_type": "code",
      "source": [
        "newsMerge[['title','news']].to_csv('/content/drive/MyDrive/NLP/corpus.txt', sep=\"\\n\", index=False,header=False) # save news title and content as text corpus"
      ],
      "metadata": {
        "id": "KQMyZFMz25Yk"
      },
      "execution_count": 61,
      "outputs": []
    },
    {
      "cell_type": "code",
      "source": [
        "!du -h /content/drive/MyDrive/NLP/corpus.txt #file size of text corpus"
      ],
      "metadata": {
        "colab": {
          "base_uri": "https://localhost:8080/"
        },
        "id": "lYiJKz3q3Uhm",
        "outputId": "b96fe76a-0e7c-4b7f-aecf-24f4f4bc456a"
      },
      "execution_count": 62,
      "outputs": [
        {
          "output_type": "stream",
          "name": "stdout",
          "text": [
            "1.2G\t/content/drive/MyDrive/NLP/corpus.txt\n"
          ]
        }
      ]
    },
    {
      "cell_type": "markdown",
      "source": [
        "## Preprocess text"
      ],
      "metadata": {
        "id": "bNPc-m-rj8ip"
      }
    },
    {
      "cell_type": "code",
      "source": [
        "from nltk.tokenize import word_tokenize\n",
        "import string\n",
        "import warnings\n",
        "warnings.filterwarnings(action = 'ignore')"
      ],
      "metadata": {
        "id": "qd1rFYK8hDO9"
      },
      "execution_count": 3,
      "outputs": []
    },
    {
      "cell_type": "code",
      "source": [
        "import nltk\n",
        "from nltk.corpus import stopwords\n",
        "nltk.download('stopwords')"
      ],
      "metadata": {
        "colab": {
          "base_uri": "https://localhost:8080/"
        },
        "id": "IOw0qP5PhO9r",
        "outputId": "abcb0467-f23e-4c08-adcd-d995b6818c34"
      },
      "execution_count": 4,
      "outputs": [
        {
          "output_type": "stream",
          "name": "stderr",
          "text": [
            "[nltk_data] Downloading package stopwords to /root/nltk_data...\n",
            "[nltk_data]   Package stopwords is already up-to-date!\n"
          ]
        },
        {
          "output_type": "execute_result",
          "data": {
            "text/plain": [
              "True"
            ]
          },
          "metadata": {},
          "execution_count": 4
        }
      ]
    },
    {
      "cell_type": "code",
      "source": [
        "stop_words = stopwords.words('nepali')\n",
        "print(\"Stopwords: \",stop_words)"
      ],
      "metadata": {
        "colab": {
          "base_uri": "https://localhost:8080/"
        },
        "id": "BV80SRFC5GNB",
        "outputId": "6107e339-2ad3-45a5-f6c1-a00cac823479"
      },
      "execution_count": 14,
      "outputs": [
        {
          "output_type": "stream",
          "name": "stdout",
          "text": [
            "Stopwords:  ['छ', 'र', 'पनि', 'छन्', 'लागि', 'भएको', 'गरेको', 'भने', 'गर्न', 'गर्ने', 'हो', 'तथा', 'यो', 'रहेको', 'उनले', 'थियो', 'हुने', 'गरेका', 'थिए', 'गर्दै', 'तर', 'नै', 'को', 'मा', 'हुन्', 'भन्ने', 'हुन', 'गरी', 'त', 'हुन्छ', 'अब', 'के', 'रहेका', 'गरेर', 'छैन', 'दिए', 'भए', 'यस', 'ले', 'गर्नु', 'औं', 'सो', 'त्यो', 'कि', 'जुन', 'यी', 'का', 'गरि', 'ती', 'न', 'छु', 'छौं', 'लाई', 'नि', 'उप', 'अक्सर', 'आदि', 'कसरी', 'क्रमशः', 'चाले', 'अगाडी', 'अझै', 'अनुसार', 'अन्तर्गत', 'अन्य', 'अन्यत्र', 'अन्यथा', 'अरु', 'अरुलाई', 'अर्को', 'अर्थात', 'अर्थात्', 'अलग', 'आए', 'आजको', 'ओठ', 'आत्म', 'आफू', 'आफूलाई', 'आफ्नै', 'आफ्नो', 'आयो', 'उदाहरण', 'उनको', 'उहालाई', 'एउटै', 'एक', 'एकदम', 'कतै', 'कम से कम', 'कसै', 'कसैले', 'कहाँबाट', 'कहिलेकाहीं', 'का', 'किन', 'किनभने', 'कुनै', 'कुरा', 'कृपया', 'केही', 'कोही', 'गए', 'गरौं', 'गर्छ', 'गर्छु', 'गर्नुपर्छ', 'गयौ', 'गैर', 'चार', 'चाहनुहुन्छ', 'चाहन्छु', 'चाहिए', 'छू', 'जताततै', 'जब', 'जबकि', 'जसको', 'जसबाट', 'जसमा', 'जसलाई', 'जसले', 'जस्तै', 'जस्तो', 'जस्तोसुकै', 'जहाँ', 'जान', 'जाहिर', 'जे', 'जो', 'ठीक', 'तत्काल', 'तदनुसार', 'तपाईको', 'तपाई', 'पर्याप्त', 'पहिले', 'पहिलो', 'पहिल्यै', 'पाँच', 'पाँचौं', 'तल', 'तापनी', 'तिनी', 'तिनीहरू', 'तिनीहरुको', 'तिनिहरुलाई', 'तिमी', 'तिर', 'तीन', 'तुरुन्तै', 'तेस्रो', 'तेस्कारण', 'पूर्व', 'प्रति', 'प्रतेक', 'प्लस', 'फेरी', 'बने', 'त्सपछि', 'त्सैले', 'त्यहाँ', 'थिएन', 'दिनुभएको', 'दिनुहुन्छ', 'दुई', 'देखि', 'बरु', 'बारे', 'बाहिर', 'देखिन्छ', 'देखियो', 'देखे', 'देखेको', 'देखेर', 'दोस्रो', 'धेरै', 'नजिकै', 'नत्र', 'नयाँ', 'निम्ति', 'बाहेक', 'बीच', 'बीचमा', 'भन', 'निम्न', 'निम्नानुसार', 'निर्दिष्ट', 'नौ', 'पक्का', 'पक्कै', 'पछि', 'पछिल्लो', 'पटक', 'पर्छ', 'पर्थ्यो', 'भन्छन्', 'भन्', 'भन्छु', 'भन्दा', 'भन्नुभयो', 'भर', 'भित्र', 'भित्री', 'म', 'मलाई', 'मात्र', 'माथि', 'मुख्य', 'मेरो', 'यति', 'यथोचित', 'यदि', 'यद्यपि', 'यसको', 'यसपछि', 'यसबाहेक', 'यसरी', 'यसो', 'यस्तो', 'यहाँ', 'यहाँसम्म', 'या', 'रही', 'राखे', 'राख्छ', 'राम्रो', 'रूप', 'लगभग', 'वरीपरी', 'वास्तवमा', 'बिरुद्ध', 'बिशेष', 'सायद', 'शायद', 'संग', 'संगै', 'सक्छ', 'सट्टा', 'सधै', 'सबै', 'सबैलाई', 'समय', 'सम्भव', 'सम्म', 'सही', 'साँच्चै', 'सात', 'साथ', 'साथै', 'सारा', 'सोही', 'स्पष्ट', 'हरे', 'हरेक']\n"
          ]
        }
      ]
    },
    {
      "cell_type": "code",
      "source": [
        "def clean_text(news):\n",
        "  #remove punctuations\n",
        "  sentences = news.replace(\"\\n\", \" \").split(u\"।\")\n",
        "  f = [sentence.translate(str.maketrans('', '', string.punctuation)) for sentence in sentences]\n",
        "  f = [x.strip() for x in f if len(x)>0]\n",
        "  return f\n",
        "  \n",
        "def remove_stopwords(sentences):\n",
        "  #remove stopwords\n",
        "  data  = []\n",
        "  for sentence in sentences:\n",
        "    words = sentence.split(\" \")\n",
        "    temp = [word for word in words if word not in stop_words]\n",
        "    data.append(temp)\n",
        "\n",
        "  return data"
      ],
      "metadata": {
        "id": "UOzFNVc5hQbv"
      },
      "execution_count": 19,
      "outputs": []
    },
    {
      "cell_type": "code",
      "source": [
        "text = open(\"/content/drive/MyDrive/NLP/corpus.txt\",encoding=\"utf8\", errors='ignore').read()"
      ],
      "metadata": {
        "id": "b6g6ptDVsvZ7"
      },
      "execution_count": 1,
      "outputs": []
    },
    {
      "cell_type": "code",
      "source": [
        "sentences = clean_text(text)"
      ],
      "metadata": {
        "id": "BkXlwPB74nU7"
      },
      "execution_count": 20,
      "outputs": []
    },
    {
      "cell_type": "code",
      "source": [
        "data = remove_stopwords(sentences)"
      ],
      "metadata": {
        "id": "JkR7zJq78n4e"
      },
      "execution_count": 21,
      "outputs": []
    },
    {
      "cell_type": "code",
      "source": [
        "data[7]"
      ],
      "metadata": {
        "colab": {
          "base_uri": "https://localhost:8080/"
        },
        "id": "7psxnVLj9SNT",
        "outputId": "a535e386-d55f-4a13-e76d-3ab8b94ef6f9"
      },
      "execution_count": 24,
      "outputs": [
        {
          "output_type": "execute_result",
          "data": {
            "text/plain": [
              "['भनेर', 'होइन', 'जनताको', 'मन', 'जित्न', 'सकिन्छ']"
            ]
          },
          "metadata": {},
          "execution_count": 24
        }
      ]
    },
    {
      "cell_type": "markdown",
      "source": [
        "## Create Word2Vec"
      ],
      "metadata": {
        "id": "w6c35DZPqbZ8"
      }
    },
    {
      "cell_type": "code",
      "source": [
        "from gensim.models import Word2Vec"
      ],
      "metadata": {
        "id": "J7-qiE8WqaAQ"
      },
      "execution_count": 25,
      "outputs": []
    },
    {
      "cell_type": "code",
      "source": [
        "model = Word2Vec(sentences=data, size=100, window=3, min_count=3, workers=4)"
      ],
      "metadata": {
        "id": "_jgulv5lqjsw"
      },
      "execution_count": 26,
      "outputs": []
    },
    {
      "cell_type": "code",
      "source": [
        "model.most_similar(\"समाचार\")"
      ],
      "metadata": {
        "colab": {
          "base_uri": "https://localhost:8080/"
        },
        "id": "h_oJSg7MuJCb",
        "outputId": "1e77f0d0-4194-4e25-a4c2-7d4ba8cc5e7d"
      },
      "execution_count": 27,
      "outputs": [
        {
          "output_type": "execute_result",
          "data": {
            "text/plain": [
              "[('समचार', 0.7439061403274536),\n",
              " ('सामाचार', 0.7239913940429688),\n",
              " ('समाचारहरू', 0.6754885911941528),\n",
              " ('खबर', 0.6719961166381836),\n",
              " ('समाचारको', 0.6371269822120667),\n",
              " ('समाचारहरु', 0.6367899179458618),\n",
              " ('समाचारका', 0.6230233907699585),\n",
              " ('पत्रपत्रिकामा', 0.6185054183006287),\n",
              " ('समाचारलाई', 0.617088794708252),\n",
              " ('पत्रिकामा', 0.612929105758667)]"
            ]
          },
          "metadata": {},
          "execution_count": 27
        }
      ]
    },
    {
      "cell_type": "code",
      "source": [
        "model.most_similar(\"सकिन्छ\")"
      ],
      "metadata": {
        "id": "GYtrYRNguM3U",
        "colab": {
          "base_uri": "https://localhost:8080/"
        },
        "outputId": "0db491be-9c7c-47cd-fab9-7ed9e415f257"
      },
      "execution_count": 28,
      "outputs": [
        {
          "output_type": "execute_result",
          "data": {
            "text/plain": [
              "[('सकिन्थ्यो', 0.8736274242401123),\n",
              " ('सक्छौं', 0.8586857914924622),\n",
              " ('सकिएला', 0.8556004762649536),\n",
              " ('सकियोस्', 0.8427200317382812),\n",
              " ('सकिँदैन', 0.8376457095146179),\n",
              " ('सक्छौँ', 0.8277298808097839),\n",
              " ('सकिएन', 0.8234168887138367),\n",
              " ('सकिने', 0.8220771551132202),\n",
              " ('सकिन्न', 0.8046677112579346),\n",
              " ('सक्नुहुन्छ', 0.7948466539382935)]"
            ]
          },
          "metadata": {},
          "execution_count": 28
        }
      ]
    },
    {
      "cell_type": "code",
      "source": [
        "model.save(\"/content/drive/MyDrive/NLP/nepali_word_embeddings\")"
      ],
      "metadata": {
        "id": "NsUtArhZBcML"
      },
      "execution_count": 55,
      "outputs": []
    },
    {
      "cell_type": "code",
      "source": [
        "!du /content/drive/MyDrive/NLP/nepali_word_embeddings -h"
      ],
      "metadata": {
        "colab": {
          "base_uri": "https://localhost:8080/"
        },
        "id": "7cd4mkc1B1bY",
        "outputId": "f1faa86a-2945-4fa6-83c3-95d5b54339c2"
      },
      "execution_count": 27,
      "outputs": [
        {
          "output_type": "stream",
          "name": "stdout",
          "text": [
            "35M\t/content/drive/MyDrive/NLP/nepali_word_embeddings\n"
          ]
        }
      ]
    },
    {
      "cell_type": "code",
      "source": [],
      "metadata": {
        "id": "IEAN9LT7GfLa"
      },
      "execution_count": 27,
      "outputs": []
    }
  ],
  "metadata": {
    "colab": {
      "provenance": [],
      "mount_file_id": "1FSrJhIkpQjVjRZzU3YjFhfaqDOzE0YMR",
      "authorship_tag": "ABX9TyMQMQ35lZiFbS63n6whkVPC",
      "include_colab_link": true
    },
    "kernelspec": {
      "display_name": "Python 3",
      "name": "python3"
    },
    "language_info": {
      "name": "python"
    }
  },
  "nbformat": 4,
  "nbformat_minor": 0
}